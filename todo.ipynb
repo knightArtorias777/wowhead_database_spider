{
 "cells": [
  {
   "cell_type": "code",
   "execution_count": null,
   "id": "initial_id",
   "metadata": {
    "collapsed": true
   },
   "outputs": [],
   "source": [
    "\"\"\"\n",
    "本nb记录自己想加的功能即todo\n",
    "1. 爬取所有职业bis数据 os：没想好要不要放入数据库\n",
    "    a. 装备系统的数据库得需要做，使用官网的数据库做\n",
    "    b. 数据库可能作为软连接 职业比较好\n",
    "    c. 如何导入数据库，爬取的是可以变成csv格式，导入postgres数据库 那我先设计一个数据库\n",
    "    d. 装备的数值是这个最麻烦的 因为区分装等 带来的饰品数值 绿字属性完全可以区分 我会抓取数值最高的\n",
    "2. 加入kook bot 方便查询\n",
    "3. 根据/SMIC数据 自动帮你判断你要打什么Mythic收益最大\n",
    "4. 建立个人的数据网站，所有人都可以分享 再去反哺kook 或者变成大数据\n",
    "\"\"\""
   ]
  },
  {
   "metadata": {},
   "cell_type": "code",
   "outputs": [],
   "execution_count": null,
   "source": [
    "import pandas as pd\n",
    "pd.read_json"
   ],
   "id": "346bad696306b676"
  },
  {
   "metadata": {},
   "cell_type": "markdown",
   "source": "",
   "id": "c22c1b2b9eb625f5"
  },
  {
   "metadata": {},
   "cell_type": "code",
   "outputs": [],
   "execution_count": null,
   "source": "curl -O \"https://tw.api.blizzard.com/data/wow/item/221023?namespace=static-tw&locale=zh_TW&access_token=KRRF3u5X6YUFbUwy9lMCoePthKK4GcOp1C\"",
   "id": "b9b2efd0b815f2f9"
  },
  {
   "metadata": {},
   "cell_type": "markdown",
   "source": "curl -O \"https://tw.api.blizzard.com/data/wow/item/221023?namespace=static-tw&locale=zh_TW&access_token=KRqVTSIfMVcTNno94QfN7wdhMaGd7WH0YZ\"",
   "id": "e26e91857a60967c"
  },
  {
   "metadata": {},
   "cell_type": "markdown",
   "source": [
    "# 2024-10-20\n",
    "今天想做的事情\n",
    "1. 新建好数据库postgres\n",
    "2. "
   ],
   "id": "5cdb36246051e1c8"
  },
  {
   "metadata": {},
   "cell_type": "markdown",
   "source": "",
   "id": "6a5927e372de5664"
  },
  {
   "metadata": {},
   "cell_type": "markdown",
   "source": "",
   "id": "4433cc7038a58bee"
  },
  {
   "metadata": {},
   "cell_type": "markdown",
   "source": "",
   "id": "94fc12331865257d"
  }
 ],
 "metadata": {
  "kernelspec": {
   "display_name": "Python 3",
   "language": "python",
   "name": "python3"
  },
  "language_info": {
   "codemirror_mode": {
    "name": "ipython",
    "version": 2
   },
   "file_extension": ".py",
   "mimetype": "text/x-python",
   "name": "python",
   "nbconvert_exporter": "python",
   "pygments_lexer": "ipython2",
   "version": "2.7.6"
  }
 },
 "nbformat": 4,
 "nbformat_minor": 5
}
