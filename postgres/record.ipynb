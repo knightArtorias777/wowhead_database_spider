{
 "cells": [
  {
   "cell_type": "code",
   "execution_count": null,
   "id": "initial_id",
   "metadata": {
    "collapsed": true
   },
   "outputs": [],
   "source": ""
  },
  {
   "metadata": {},
   "cell_type": "markdown",
   "source": [
    "# docker postgres\n",
    "1. 拉去镜像 docker pull postgres\n",
    "2. 创数据卷 docker volume create postgre-data\n",
    "3. 创建容器运行\n",
    "docker run --name wow-postgres -v postgre-data:/var/lib/postgresql/data -e LANG=C.UTF-8 -e POSTGRES_PASSWORD=yin123 -p 5432:5432 -d postgres\n",
    "4. 进入POSTGRES\n",
    "```docker exec -it wow-postgres bash```\n",
    "```docker exec -it my-postgres psql -U postgres```\n",
    "```docker exec -it wow-postgres psql -U yin12 wowdatabase```\n",
    "5. postgres\n",
    "    a.创建用户 yin12 961029\n",
    "    b.创建数据库\n",
    "    c.创建表 \n"
   ],
   "id": "6c35e2ea2bfb95fd"
  }
 ],
 "metadata": {
  "kernelspec": {
   "display_name": "Python 3",
   "language": "python",
   "name": "python3"
  },
  "language_info": {
   "codemirror_mode": {
    "name": "ipython",
    "version": 2
   },
   "file_extension": ".py",
   "mimetype": "text/x-python",
   "name": "python",
   "nbconvert_exporter": "python",
   "pygments_lexer": "ipython2",
   "version": "2.7.6"
  }
 },
 "nbformat": 4,
 "nbformat_minor": 5
}
